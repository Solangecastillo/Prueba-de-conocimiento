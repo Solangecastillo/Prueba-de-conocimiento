{
 "cells": [
  {
   "cell_type": "code",
   "execution_count": 1,
   "metadata": {},
   "outputs": [],
   "source": [
    "import pandas as pd\n",
    "import xlrd\n",
    "import openpyxl"
   ]
  },
  {
   "cell_type": "code",
   "execution_count": 2,
   "metadata": {},
   "outputs": [],
   "source": [
    "#Llamar los archivos\n",
    "Dic2021 = pd.read_excel('2021_12.xls',skiprows=10)\n",
    "Dic2022 = pd.read_excel('2022_12.xls',skiprows=10)\n",
    "Dic2023 = pd.read_excel('2023_12.xls',skiprows=10)\n",
    "Nov2023 = pd.read_excel('2023_11.xls',skiprows=10)\n",
    "Nov2024 = pd.read_excel('2024_11.xls',skiprows=10)\n",
    "\n"
   ]
  },
  {
   "cell_type": "code",
   "execution_count": 3,
   "metadata": {},
   "outputs": [],
   "source": [
    "#Renombrar las columnas\n",
    "Dic2021 = Dic2021.rename(columns={'Unnamed: 0':'Rubros','Unnamed: 1':'Subrubro','Nombre de la entidad':'Detalle'})\n",
    "Dic2022 = Dic2022.rename(columns={'Unnamed: 0':'Rubros','Unnamed: 1':'Subrubro','Nombre de la entidad':'Detalle'})\n",
    "Dic2023 = Dic2023.rename(columns={'Unnamed: 0':'Rubros','Unnamed: 1':'Subrubro','Nombre de la entidad':'Detalle'})\n",
    "Nov2023 = Nov2023.rename(columns={'Unnamed: 0':'Rubros','Unnamed: 1':'Subrubro','Nombre de la entidad':'Detalle'})\n",
    "Nov2024 = Nov2024.rename(columns={'Unnamed: 0':'Rubros','Unnamed: 1':'Subrubro','Nombre de la entidad':'Detalle'})\n",
    "#Agregar columna fecha al df\n",
    "Dic2021['Fecha'] = '01/12/2021'\n",
    "Dic2022['Fecha'] = '01/12/2022'\n",
    "Dic2023['Fecha'] = '01/12/2023'\n",
    "Nov2023['Fecha'] = '01/11/2023'\n",
    "Nov2024['Fecha'] = '01/11/2024'"
   ]
  },
  {
   "cell_type": "code",
   "execution_count": 4,
   "metadata": {},
   "outputs": [],
   "source": [
    "#Eliminar la primer fila del df porque esta no sirve\n",
    "Dic2021 = Dic2021.drop(index=0).reset_index(drop=True)\n",
    "Dic2022 = Dic2022.drop(index=0).reset_index(drop=True)\n",
    "Dic2023 = Dic2023.drop(index=0).reset_index(drop=True)\n",
    "Nov2023 = Nov2023.drop(index=0).reset_index(drop=True)\n",
    "Nov2024 = Nov2024.drop(index=0).reset_index(drop=True)\n"
   ]
  },
  {
   "cell_type": "code",
   "execution_count": 5,
   "metadata": {},
   "outputs": [
    {
     "data": {
      "text/plain": [
       "\"Dic2021['Rubros'] = Dic2021['Rubros'].fillna(method='ffill')\\nDic2022['Rubros'] = Dic2022['Rubros'].fillna(method='ffill')\\nDic2023['Rubros'] = Dic2023['Rubros'].fillna(method='ffill')\\nNov2023['Rubros'] = Nov2023['Rubros'].fillna(method='ffill')\\nNov2024['Rubros'] = Nov2024['Rubros'].fillna(method='ffill')\\n\\n#Rellenar columna Subrubro\\nDic2021['Subrubro'] = Dic2021['Subrubro'].fillna(method='ffill')\""
      ]
     },
     "execution_count": 5,
     "metadata": {},
     "output_type": "execute_result"
    }
   ],
   "source": [
    "#Rellenar columna rubros\n",
    "Dic2021['Rubros'] = Dic2021['Rubros'].fillna(method='ffill')\n",
    "Dic2022['Rubros'] = Dic2022['Rubros'].fillna(method='ffill')\n",
    "Dic2023['Rubros'] = Dic2023['Rubros'].fillna(method='ffill')\n",
    "Nov2023['Rubros'] = Nov2023['Rubros'].fillna(method='ffill')\n",
    "Nov2024['Rubros'] = Nov2024['Rubros'].fillna(method='ffill')\n",
    "\n",
    "#Rellenar columna Subrubro\n",
    "Dic2021['Subrubro'] = Dic2021['Subrubro'].fillna(method='ffill')"
   ]
  },
  {
   "cell_type": "code",
   "execution_count": 6,
   "metadata": {},
   "outputs": [],
   "source": [
    "Dic2021.to_excel('testdic2021.xlsx')"
   ]
  },
  {
   "cell_type": "code",
   "execution_count": 5,
   "metadata": {},
   "outputs": [],
   "source": [
    "#concatenar dataframe\n",
    "Consolidado = pd.concat([Dic2021, Dic2022, Dic2023, Nov2023, Nov2024], ignore_index=True)\n"
   ]
  },
  {
   "cell_type": "code",
   "execution_count": 6,
   "metadata": {},
   "outputs": [],
   "source": [
    "Consolidado=Consolidado[['Fecha','Rubros', 'Subrubro', 'Detalle','MIBANCO S.A.']]"
   ]
  },
  {
   "cell_type": "code",
   "execution_count": 10,
   "metadata": {},
   "outputs": [],
   "source": [
    "Consolidado.to_excel('Consolidado.xlsx')"
   ]
  },
  {
   "cell_type": "markdown",
   "metadata": {},
   "source": []
  }
 ],
 "metadata": {
  "kernelspec": {
   "display_name": "Python 3",
   "language": "python",
   "name": "python3"
  },
  "language_info": {
   "codemirror_mode": {
    "name": "ipython",
    "version": 3
   },
   "file_extension": ".py",
   "mimetype": "text/x-python",
   "name": "python",
   "nbconvert_exporter": "python",
   "pygments_lexer": "ipython3",
   "version": "3.12.4"
  }
 },
 "nbformat": 4,
 "nbformat_minor": 2
}
